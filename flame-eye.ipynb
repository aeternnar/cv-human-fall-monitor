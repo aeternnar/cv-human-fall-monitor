{
 "cells": [
  {
   "cell_type": "code",
   "execution_count": 10,
   "id": "a8670e47-8913-49f9-93ea-bdbba2d1cb79",
   "metadata": {},
   "outputs": [],
   "source": [
    "import numpy as np\n",
    "import pandas as pd\n",
    "import matplotlib.pyplot as pls\n",
    "import seaborn as sns\n",
    "import torch\n",
    "import cv2\n",
    "\n",
    "sns.set_style('darkgrid')\n",
    "\n",
    "seed = 42\n",
    "np.random.seed(seed)\n",
    "torch.manual_seed(seed)\n",
    "torch.cuda.manual_seed(seed)\n",
    "torch.cuda.manual_seed_all(seed)\n",
    "torch.backends.cudnn.deterministic = True\n",
    "torch.backends.cudnn.benchmark = False"
   ]
  },
  {
   "cell_type": "code",
   "execution_count": 11,
   "id": "a940e3b2-f5a1-4368-bf4f-fdd7d05b6211",
   "metadata": {},
   "outputs": [
    {
     "name": "stdout",
     "output_type": "stream",
     "text": [
      "/home/aeternnar/projects/cv-flame-eye\n"
     ]
    }
   ],
   "source": [
    "import os\n",
    "print(os.getcwd())\n"
   ]
  },
  {
   "cell_type": "code",
   "execution_count": 13,
   "id": "d6d1db95-e69e-4852-b292-7e4e86b54281",
   "metadata": {},
   "outputs": [
    {
     "name": "stderr",
     "output_type": "stream",
     "text": [
      "/home/aeternnar/miniconda3/envs/cv/lib/python3.9/site-packages/PIL/Image.py:3570: UserWarning: image file could not be identified because AVIF support not installed\n",
      "  warnings.warn(message)\n"
     ]
    },
    {
     "name": "stdout",
     "output_type": "stream",
     "text": [
      "Не удалось обработать natural-disaster-landscape_23-2151902803.jpg: cannot identify image file './unresized_pics/natural-disaster-landscape_23-2151902803.jpg'\n",
      "Не удалось обработать alberi-contro-un-cielo-arancione_1048944-6716303.jpg: cannot identify image file './unresized_pics/alberi-contro-un-cielo-arancione_1048944-6716303.jpg'\n"
     ]
    }
   ],
   "source": [
    "from PIL import Image\n",
    "import os\n",
    "\n",
    "input_folder = \"./unresized_pics\"\n",
    "output_folder = \"./resized_pics\"\n",
    "os.makedirs(output_folder, exist_ok=True)\n",
    "\n",
    "for filename in os.listdir(input_folder):\n",
    "    if filename.lower().endswith((\".jpg\", \".jpeg\", \".png\")):\n",
    "        path = os.path.join(input_folder, filename)\n",
    "        try:\n",
    "            img = Image.open(path)\n",
    "            img = img.resize((640, 640)) \n",
    "            base_name = os.path.splitext(filename)[0]\n",
    "            out_path = os.path.join(output_folder, f\"{base_name}.jpg\")\n",
    "            img.convert(\"RGB\").save(out_path, \"JPEG\", quality=100)\n",
    "        except Exception as e:\n",
    "            print(f\"Не удалось обработать {filename}: {e}\")"
   ]
  },
  {
   "cell_type": "code",
   "execution_count": null,
   "id": "f6733d1d-5814-4282-8ada-27e4f54e3ce9",
   "metadata": {},
   "outputs": [],
   "source": []
  }
 ],
 "metadata": {
  "kernelspec": {
   "display_name": "Python (cv)",
   "language": "python",
   "name": "cv"
  },
  "language_info": {
   "codemirror_mode": {
    "name": "ipython",
    "version": 3
   },
   "file_extension": ".py",
   "mimetype": "text/x-python",
   "name": "python",
   "nbconvert_exporter": "python",
   "pygments_lexer": "ipython3",
   "version": "3.9.23"
  }
 },
 "nbformat": 4,
 "nbformat_minor": 5
}
